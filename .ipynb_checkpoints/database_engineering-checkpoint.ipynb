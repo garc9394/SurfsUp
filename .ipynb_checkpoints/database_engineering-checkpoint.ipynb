{
 "cells": [
  {
   "cell_type": "code",
   "execution_count": 11,
   "metadata": {},
   "outputs": [],
   "source": [
    "import pandas as pd\n",
    "from sqlalchemy import create_engine\n",
    "from sqlalchemy.ext.declarative import declarative_base\n",
    "from sqlalchemy import Column, Integer, String, Float, Text\n",
    "from sqlalchemy.orm import Session"
   ]
  },
  {
   "cell_type": "code",
   "execution_count": 12,
   "metadata": {
    "collapsed": true
   },
   "outputs": [],
   "source": [
    "measurements_data_file = 'Resources/clean_hawaii_measurements.csv'\n",
    "stations_data_file = 'Resources/clean_hawaii_stations.csv'\n",
    "\n",
    "measurements_df = pd.read_csv(measurements_data_file)\n",
    "stations_df = pd.read_csv(stations_data_file)"
   ]
  },
  {
   "cell_type": "code",
   "execution_count": 13,
   "metadata": {
    "collapsed": true
   },
   "outputs": [],
   "source": [
    "Base = declarative_base()\n",
    "\n",
    "class Measurement(Base):\n",
    "    __tablename__ = 'measurements'\n",
    "    station = Column(String(255), primary_key=True)\n",
    "    date = Column(Text, primary_key=True)\n",
    "    prcp = Column(Float)\n",
    "    tobs = Column(Integer)\n",
    "\n",
    "\n",
    "class Station(Base):\n",
    "    __tablename__ = 'stations'\n",
    "    station = Column(String(255), primary_key=True)\n",
    "    name = Column(String(255))\n",
    "    latitude = Column(String(255))\n",
    "    longtitude = Column(String(255))\n",
    "    elevation = Column(String(255))"
   ]
  },
  {
   "cell_type": "code",
   "execution_count": 14,
   "metadata": {
    "collapsed": true
   },
   "outputs": [],
   "source": [
    "engine = create_engine('sqlite:///Resources/hawaii.sqlite')\n",
    "Base.metadata.create_all(engine)\n",
    "session = Session(bind=engine)"
   ]
  },
  {
   "cell_type": "code",
   "execution_count": 15,
   "metadata": {
    "collapsed": true
   },
   "outputs": [],
   "source": [
    "for index, row in measurements_df.iterrows():\n",
    "    station = row['station']\n",
    "    date = row['date']\n",
    "    prcp = row['prcp']\n",
    "    tobs = row['tobs']\n",
    "    session.add(Measurement(station=station, date=date, prcp=prcp, tobs=tobs))\n",
    "    \n",
    "# more efficient method:\n",
    "# measurements_df.to_sql(\"measurements\", engine, if_exists=\"replace\", index=True)"
   ]
  },
  {
   "cell_type": "code",
   "execution_count": 16,
   "metadata": {},
   "outputs": [],
   "source": [
    "session.commit()"
   ]
  },
  {
   "cell_type": "code",
   "execution_count": 17,
   "metadata": {
    "collapsed": true
   },
   "outputs": [],
   "source": [
    "for index, row in stations_df.iterrows():\n",
    "    station = row['station']\n",
    "    name = row['name']\n",
    "    latitude = row['latitude']\n",
    "    longtitude = row[3] # 'longtitude' does not work ('str' object cannot be interpreted as an integer)\n",
    "    elevation = row['elevation']\n",
    "    session.add(Station(station=station, name=name, latitude=latitude, longtitude=longtitude, elevation=elevation))\n",
    "    \n",
    "# more efficient method:\n",
    "# stations_df.to_sql(\"station\", engine, if_exists=\"replace\", index=True)"
   ]
  },
  {
   "cell_type": "code",
   "execution_count": 18,
   "metadata": {},
   "outputs": [],
   "source": [
    "session.commit()"
   ]
  },
  {
   "cell_type": "code",
   "execution_count": 191,
   "metadata": {
    "collapsed": true
   },
   "outputs": [],
   "source": [
    "# engine.execute('SELECT * FROM stations').fetchall()\n",
    "# engine.execute('DELETE FROM stations')"
   ]
  },
  {
   "cell_type": "code",
   "execution_count": null,
   "metadata": {
    "collapsed": true
   },
   "outputs": [],
   "source": []
  }
 ],
 "metadata": {
  "kernelspec": {
   "display_name": "Python 3",
   "language": "python",
   "name": "python3"
  },
  "language_info": {
   "codemirror_mode": {
    "name": "ipython",
    "version": 3
   },
   "file_extension": ".py",
   "mimetype": "text/x-python",
   "name": "python",
   "nbconvert_exporter": "python",
   "pygments_lexer": "ipython3",
   "version": "3.6.2"
  }
 },
 "nbformat": 4,
 "nbformat_minor": 2
}
