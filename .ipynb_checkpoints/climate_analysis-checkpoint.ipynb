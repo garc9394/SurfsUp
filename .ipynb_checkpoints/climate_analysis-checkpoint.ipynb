{
 "cells": [
  {
   "cell_type": "code",
   "execution_count": 1,
   "metadata": {
    "collapsed": true
   },
   "outputs": [],
   "source": [
    "from sqlalchemy import create_engine\n",
    "from sqlalchemy.ext.automap import automap_base\n",
    "from sqlalchemy.ext.declarative import declarative_base\n",
    "from sqlalchemy import Column, Integer, String\n",
    "from sqlalchemy.orm import Session\n",
    "\n",
    "import pandas as pd\n",
    "import matplotlib.pyplot as plt"
   ]
  },
  {
   "cell_type": "code",
   "execution_count": 2,
   "metadata": {
    "collapsed": true
   },
   "outputs": [],
   "source": [
    "engine = create_engine('sqlite:///Resources/hawaii.sqlite')\n",
    "session = Session(bind=engine)\n",
    "Base = automap_base()"
   ]
  },
  {
   "cell_type": "code",
   "execution_count": 3,
   "metadata": {
    "collapsed": true
   },
   "outputs": [],
   "source": [
    "Base.prepare(engine, reflect=True)"
   ]
  },
  {
   "cell_type": "code",
   "execution_count": 4,
   "metadata": {},
   "outputs": [
    {
     "data": {
      "text/plain": [
       "['measurements', 'stations']"
      ]
     },
     "execution_count": 4,
     "metadata": {},
     "output_type": "execute_result"
    }
   ],
   "source": [
    "Base.classes.keys()"
   ]
  },
  {
   "cell_type": "code",
   "execution_count": 5,
   "metadata": {
    "collapsed": true
   },
   "outputs": [],
   "source": [
    "Station = list(Base.classes.stations.__table__.columns)\n",
    "Measurement = list(Base.classes.measurements.__table__.columns)"
   ]
  },
  {
   "cell_type": "code",
   "execution_count": 6,
   "metadata": {
    "collapsed": true
   },
   "outputs": [],
   "source": [
    "# Precipitation Analysis\n",
    "\n",
    "measurement_df = pd.DataFrame(engine.execute('SELECT date, prcp FROM measurements').fetchall()\n",
    "                             , columns= ['date', 'prcp'])\n",
    "\n",
    "# alternate: measurement_df = pd.read_sql_query('SELECT date, prcp FROM measurements', engine)"
   ]
  },
  {
   "cell_type": "code",
   "execution_count": 7,
   "metadata": {
    "collapsed": true
   },
   "outputs": [],
   "source": [
    "measurement_df = measurement_df.set_index('date', inplace=False)"
   ]
  },
  {
   "cell_type": "code",
   "execution_count": 8,
   "metadata": {},
   "outputs": [
    {
     "data": {
      "image/png": "[encoded data removed]",
      "text/plain": [
       "<matplotlib.figure.Figure at 0x106236ac8>"
      ]
     },
     "metadata": {},
     "output_type": "display_data"
    }
   ],
   "source": [
    "ax = measurement_df.plot(kind='bar', figsize=(10, 6), legend=True, fontsize=12)\n",
    "ax.set_xlabel(\"date\", fontsize=12)\n",
    "ax.set_ylim(0,4)\n",
    "plt.show()"
   ]
  },
  {
   "cell_type": "code",
   "execution_count": 9,
   "metadata": {},
   "outputs": [
    {
     "data": {
      "text/html": [
       "<div>\n",
       "<style>\n",
       "    .dataframe thead tr:only-child th {\n",
       "        text-align: right;\n",
       "    }\n",
       "\n",
       "    .dataframe thead th {\n",
       "        text-align: left;\n",
       "    }\n",
       "\n",
       "    .dataframe tbody tr th {\n",
       "        vertical-align: top;\n",
       "    }\n",
       "</style>\n",
       "<table border=\"1\" class=\"dataframe\">\n",
       "  <thead>\n",
       "    <tr style=\"text-align: right;\">\n",
       "      <th></th>\n",
       "      <th>prcp</th>\n",
       "    </tr>\n",
       "  </thead>\n",
       "  <tbody>\n",
       "    <tr>\n",
       "      <th>count</th>\n",
       "      <td>18103.000000</td>\n",
       "    </tr>\n",
       "    <tr>\n",
       "      <th>mean</th>\n",
       "      <td>0.160644</td>\n",
       "    </tr>\n",
       "    <tr>\n",
       "      <th>std</th>\n",
       "      <td>0.468746</td>\n",
       "    </tr>\n",
       "    <tr>\n",
       "      <th>min</th>\n",
       "      <td>0.000000</td>\n",
       "    </tr>\n",
       "    <tr>\n",
       "      <th>25%</th>\n",
       "      <td>0.000000</td>\n",
       "    </tr>\n",
       "    <tr>\n",
       "      <th>50%</th>\n",
       "      <td>0.010000</td>\n",
       "    </tr>\n",
       "    <tr>\n",
       "      <th>75%</th>\n",
       "      <td>0.110000</td>\n",
       "    </tr>\n",
       "    <tr>\n",
       "      <th>max</th>\n",
       "      <td>11.530000</td>\n",
       "    </tr>\n",
       "  </tbody>\n",
       "</table>\n",
       "</div>"
      ],
      "text/plain": [
       "               prcp\n",
       "count  18103.000000\n",
       "mean       0.160644\n",
       "std        0.468746\n",
       "min        0.000000\n",
       "25%        0.000000\n",
       "50%        0.010000\n",
       "75%        0.110000\n",
       "max       11.530000"
      ]
     },
     "execution_count": 9,
     "metadata": {},
     "output_type": "execute_result"
    }
   ],
   "source": [
    "measurement_df.describe()"
   ]
  },
  {
   "cell_type": "code",
   "execution_count": 10,
   "metadata": {},
   "outputs": [
    {
     "name": "stdout",
     "output_type": "stream",
     "text": [
      "Number of Stations:  9\n"
     ]
    }
   ],
   "source": [
    "# Station Analysis\n",
    "\n",
    "number_of_stations = engine.execute('SELECT COUNT(station) FROM stations').fetchall()\n",
    "for row in number_of_stations:\n",
    "    print('Number of Stations: ', row[0])"
   ]
  },
  {
   "cell_type": "code",
   "execution_count": 11,
   "metadata": {},
   "outputs": [
    {
     "name": "stdout",
     "output_type": "stream",
     "text": [
      "Name:  WAIHEE 837.5, HI US | Total Obs:  2772\n",
      "Name:  KANEOHE 838.1, HI US | Total Obs:  2696\n",
      "Name:  WAIKIKI 717.2, HI US | Total Obs:  2685\n",
      "Name:  WAIMANALO EXPERIMENTAL FARM, HI US | Total Obs:  2572\n",
      "Name:  MANOA LYON ARBO 785.2, HI US | Total Obs:  2484\n",
      "Name:  KUALOA RANCH HEADQUARTERS 886.9, HI US | Total Obs:  1937\n",
      "Name:  HONOLULU OBSERVATORY 702.2, HI US | Total Obs:  1932\n",
      "Name:  PEARL CITY, HI US | Total Obs:  683\n",
      "Name:  UPPER WAHIAWA 874.3, HI US | Total Obs:  342\n"
     ]
    }
   ],
   "source": [
    "observations = engine.execute('SELECT s.name, COUNT(m.tobs) AS tobs FROM measurements m JOIN stations s ON m.station = s.station GROUP BY s.station ORDER BY tobs DESC').fetchall()\n",
    "for row in observations:\n",
    "    print('Name: ', row[0], '| Total Obs: ', row[1])"
   ]
  },
  {
   "cell_type": "code",
   "execution_count": 12,
   "metadata": {
    "scrolled": true
   },
   "outputs": [
    {
     "name": "stdout",
     "output_type": "stream",
     "text": [
      "Station with Highest Number of Observations:  WAIHEE 837.5, HI US | Total Obs:  2772\n"
     ]
    }
   ],
   "source": [
    "highest_observations = engine.execute('SELECT s.name, COUNT(m.tobs) AS tobs FROM measurements m JOIN stations s ON m.station = s.station GROUP BY s.station ORDER BY tobs DESC LIMIT 1').fetchall()\n",
    "for row in highest_observations:\n",
    "    print('Station with Highest Number of Observations: ', row[0], '| Total Obs: ', row[1])"
   ]
  },
  {
   "cell_type": "code",
   "execution_count": 13,
   "metadata": {
    "collapsed": true
   },
   "outputs": [],
   "source": [
    "tobs_df = pd.DataFrame(engine.execute('SELECT tobs FROM measurements WHERE station IN (SELECT station FROM measurements GROUP BY station ORDER BY COUNT(tobs) DESC LIMIT 1)').fetchall())"
   ]
  },
  {
   "cell_type": "code",
   "execution_count": 14,
   "metadata": {},
   "outputs": [
    {
     "data": {
      "image/png": "[encoded data removed]",
      "text/plain": [
       "<matplotlib.figure.Figure at 0x106236710>"
      ]
     },
     "metadata": {},
     "output_type": "display_data"
    }
   ],
   "source": [
    "x = tobs_df\n",
    "plt.hist(x, bins=12)\n",
    "plt.ylabel('Frequency', fontsize=14)\n",
    "plt.legend('tobs')\n",
    "plt.facecolor='skyblue'\n",
    "plt.grid()\n",
    "plt.show()"
   ]
  },
  {
   "cell_type": "code",
   "execution_count": null,
   "metadata": {
    "collapsed": true
   },
   "outputs": [],
   "source": []
  }
 ],
 "metadata": {
  "kernelspec": {
   "display_name": "Python 3",
   "language": "python",
   "name": "python3"
  },
  "language_info": {
   "codemirror_mode": {
    "name": "ipython",
    "version": 3
   },
   "file_extension": ".py",
   "mimetype": "text/x-python",
   "name": "python",
   "nbconvert_exporter": "python",
   "pygments_lexer": "ipython3",
   "version": "3.6.2"
  }
 },
 "nbformat": 4,
 "nbformat_minor": 2
}
