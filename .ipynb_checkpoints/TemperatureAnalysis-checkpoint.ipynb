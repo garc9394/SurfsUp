{
 "cells": [
  {
   "cell_type": "code",
   "execution_count": 1,
   "metadata": {
    "collapsed": true
   },
   "outputs": [],
   "source": [
    "from sqlalchemy import create_engine\n",
    "from sqlalchemy.ext.automap import automap_base\n",
    "from sqlalchemy.ext.declarative import declarative_base\n",
    "from sqlalchemy import Column, Integer, String\n",
    "from sqlalchemy.orm import Session\n",
    "\n",
    "import pandas as pd\n",
    "import matplotlib.pyplot as plt"
   ]
  },
  {
   "cell_type": "code",
   "execution_count": 2,
   "metadata": {
    "collapsed": true
   },
   "outputs": [],
   "source": [
    "engine = create_engine('sqlite:///Resources/hawaii.sqlite')\n",
    "session = Session(bind=engine)\n",
    "Base = automap_base()"
   ]
  },
  {
   "cell_type": "code",
   "execution_count": 3,
   "metadata": {
    "collapsed": true
   },
   "outputs": [],
   "source": [
    "class Measurements(Base):\n",
    "    __tablename__ = \"measurements\"\n",
    "    date = Column(String, primary_key=True)\n",
    "    tobs = Column(String)"
   ]
  },
  {
   "cell_type": "code",
   "execution_count": 99,
   "metadata": {
    "collapsed": true
   },
   "outputs": [],
   "source": [
    "def calc_temps():\n",
    "    start_date = input(\"Please enter start date (YYYY-mm-dd): \")\n",
    "    end_date = input(\"Please enter end date (YYYY-mm-dd): \")\n",
    "    start_date = start_date.replace(\"8\", \"7\")\n",
    "    end_date = end_date.replace(\"8\", \"7\")\n",
    "    \n",
    "    statement = 'SELECT date, tobs FROM measurements WHERE date >= \"' + start_date + '\" AND date <= \"' + end_date + '\"'\n",
    "    #statement = '{}'.format(statement)\n",
    "    temp_df = pd.DataFrame(engine.execute(statement).fetchall())\n",
    "    temp_df.columns = ['date', 'tobs']\n",
    "    \n",
    "    avg_temp = temp_df['tobs'].mean()\n",
    "    max_temp = temp_df['tobs'].max()\n",
    "    min_temp = temp_df['tobs'].min()\n",
    "    \n",
    "    return avg_temp, max_temp, min_temp"
   ]
  },
  {
   "cell_type": "code",
   "execution_count": 103,
   "metadata": {},
   "outputs": [
    {
     "name": "stdout",
     "output_type": "stream",
     "text": [
      "Please enter start date (YYYY-mm-dd): 2018-06-18\n",
      "Please enter end date (YYYY-mm-dd): 2018-07-07\n"
     ]
    }
   ],
   "source": [
    "temp_stat = calc_temps()"
   ]
  },
  {
   "cell_type": "code",
   "execution_count": 182,
   "metadata": {},
   "outputs": [],
   "source": [
    "avg_temp = temp_stat[0]\n",
    "max_temp = temp_stat[1]\n",
    "min_temp = temp_stat[2]"
   ]
  },
  {
   "cell_type": "code",
   "execution_count": 183,
   "metadata": {},
   "outputs": [
    {
     "data": {
      "image/png": "[encoded data removed]",
      "text/plain": [
       "<matplotlib.figure.Figure at 0x11c008240>"
      ]
     },
     "metadata": {},
     "output_type": "display_data"
    }
   ],
   "source": [
    "fig,ax = plt.subplots(1)\n",
    "plt.bar(1, avg_temp, yerr=(max_temp - min_temp))\n",
    "plt.ylim(0,100)\n",
    "plt.ylabel('Temp (F)')\n",
    "plt.title('Trip Avg Temp')\n",
    "ax.set_xticklabels([])\n",
    "\n",
    "plt.show()"
   ]
  },
  {
   "cell_type": "code",
   "execution_count": null,
   "metadata": {
    "collapsed": true
   },
   "outputs": [],
   "source": []
  }
 ],
 "metadata": {
  "kernelspec": {
   "display_name": "Python 3",
   "language": "python",
   "name": "python3"
  },
  "language_info": {
   "codemirror_mode": {
    "name": "ipython",
    "version": 3
   },
   "file_extension": ".py",
   "mimetype": "text/x-python",
   "name": "python",
   "nbconvert_exporter": "python",
   "pygments_lexer": "ipython3",
   "version": "3.6.2"
  }
 },
 "nbformat": 4,
 "nbformat_minor": 2
}
